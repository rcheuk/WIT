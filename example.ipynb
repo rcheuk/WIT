{
 "cells": [
  {
   "cell_type": "code",
   "execution_count": 1,
   "metadata": {
    "collapsed": true
   },
   "outputs": [],
   "source": [
    "from recommend_words import *\n",
    "from pprint import pprint"
   ]
  },
  {
   "cell_type": "code",
   "execution_count": 2,
   "metadata": {
    "collapsed": false
   },
   "outputs": [
    {
     "data": {
      "text/plain": [
       "[{'similarity': 0.737,\n",
       "  'word': [('analytical_interpersonal', 'ADJ_NOUN', 'Strongly Female')]},\n",
       " {'similarity': 0.701, 'word': [('conscientious', 'ADJ', 'Strongly Female')]},\n",
       " {'similarity': 0.693,\n",
       "  'word': [('that_encourages', 'DET_VERB', 'Strongly Female')]},\n",
       " {'similarity': 0.68,\n",
       "  'word': [('geographically_dispersed', 'ADV_VERB', 'Strongly Female')]},\n",
       " {'similarity': 0.65,\n",
       "  'word': [('clear_maintainable', 'ADJ_ADJ', 'Strongly Female')]},\n",
       " {'similarity': 0.642,\n",
       "  'word': [('team_spirit', 'NOUN_NOUN', 'Strongly Female')]},\n",
       " {'similarity': 0.609, 'word': [('reinvent', 'NOUN', 'Strongly Female')]},\n",
       " {'similarity': 0.605,\n",
       "  'word': [('challenge_solving', 'NOUN_VERB', 'Strongly Female')]},\n",
       " {'similarity': 0.593,\n",
       "  'word': [('quick_adaptability', 'ADJ_NOUN', 'Strongly Female')]},\n",
       " {'similarity': 0.588,\n",
       "  'word': [('solid_organizational', 'ADJ_NOUN', 'Strongly Female')]}]"
      ]
     },
     "execution_count": 2,
     "metadata": {},
     "output_type": "execute_result"
    }
   ],
   "source": [
    "get_most_similar('self_motivated', topn=10, gender=['Strongly Female'], pos=None)"
   ]
  },
  {
   "cell_type": "code",
   "execution_count": 3,
   "metadata": {
    "collapsed": false
   },
   "outputs": [
    {
     "data": {
      "text/plain": [
       "[{'similarity': 0.689, 'word': [('superb', 'NOUN', 'Male')]},\n",
       " {'similarity': 0.686, 'word': [('solving_skills', 'VERB_NOUN', 'Male')]},\n",
       " {'similarity': 0.6,\n",
       "  'word': [('hard', 'ADJ', 'Male'), ('hardness', 'NOUN', 'Male')]},\n",
       " {'similarity': 0.581,\n",
       "  'word': [('active_listening', 'ADJ_NOUN', 'Strongly Male')]},\n",
       " {'similarity': 0.569,\n",
       "  'word': [('sensing', 'VERB', 'Male'), ('sense', 'NOUN', 'Male')]},\n",
       " {'similarity': 0.559, 'word': [('valuable', 'ADJ', 'Male')]},\n",
       " {'similarity': 0.535, 'word': [('willingness', 'NOUN', 'Strongly Male')]},\n",
       " {'similarity': 0.523, 'word': [('proven_success', 'ADV_NOUN', 'Male')]},\n",
       " {'similarity': 0.522, 'word': [('bilingual_english', 'ADJ_NOUN', 'Male')]},\n",
       " {'similarity': 0.519,\n",
       "  'word': [('meticulous', 'ADJ', 'Strongly Male'),\n",
       "   ('meticulously', 'ADV', 'Strongly Male')]}]"
      ]
     },
     "execution_count": 3,
     "metadata": {},
     "output_type": "execute_result"
    }
   ],
   "source": [
    "get_most_similar('good', topn=10, gender=['Male', 'Strongly Male'], pos=None)"
   ]
  },
  {
   "cell_type": "code",
   "execution_count": 4,
   "metadata": {
    "collapsed": false
   },
   "outputs": [
    {
     "data": {
      "text/plain": [
       "[{'similarity': 0.781, 'word': [('under_pressure', 'ADP_NOUN', 'Neutral')]},\n",
       " {'similarity': 0.751,\n",
       "  'word': [('good_communication', 'ADJ_NOUN', 'Neutral')]},\n",
       " {'similarity': 0.75, 'word': [('fast_learner', 'NOUN_NOUN', 'Neutral')]},\n",
       " {'similarity': 0.737, 'word': [('team_player', 'NOUN_NOUN', 'Neutral')]},\n",
       " {'similarity': 0.732, 'word': [('self_starter', 'NOUN_NOUN', 'Neutral')]},\n",
       " {'similarity': 0.731,\n",
       "  'word': [('meets_deadlines', 'NOUN_NOUN', 'Neutral'),\n",
       "   ('meeting_deadlines', 'NOUN_NOUN', 'Neutral'),\n",
       "   ('meet_deadlines', 'NOUN_NOUN', 'Neutral')]},\n",
       " {'similarity': 0.73,\n",
       "  'word': [('multitasker', 'NOUN', 'Neutral'),\n",
       "   ('multitasking', 'VERB', 'Neutral'),\n",
       "   ('multitask', 'NOUN', 'Neutral')]},\n",
       " {'similarity': 0.73,\n",
       "  'word': [('possess_strong', 'NOUN_ADJ', 'Neutral'),\n",
       "   ('possesses_strong', 'NOUN_ADJ', 'Neutral')]},\n",
       " {'similarity': 0.727,\n",
       "  'word': [('excellent_interpersonal', 'ADJ_NOUN', 'Neutral')]},\n",
       " {'similarity': 0.724, 'word': [('very_good', 'ADV_ADJ', 'Neutral')]}]"
      ]
     },
     "execution_count": 4,
     "metadata": {},
     "output_type": "execute_result"
    }
   ],
   "source": [
    "get_most_similar('good', topn=10, gender='Neutral', pos=None)"
   ]
  },
  {
   "cell_type": "code",
   "execution_count": 5,
   "metadata": {
    "collapsed": true
   },
   "outputs": [],
   "source": [
    "job = read_text('job_post.txt')\n",
    "job_data = process_text(job)\n",
    "job_results = get_gendered_words(job_data)"
   ]
  },
  {
   "cell_type": "code",
   "execution_count": 6,
   "metadata": {
    "collapsed": false
   },
   "outputs": [
    {
     "name": "stdout",
     "output_type": "stream",
     "text": [
      "pragmatic ADJ Male\n",
      "[{'similarity': 0.809,\n",
      "  'word': [('online_presence', 'NOUN_NOUN', 'Strongly Female')]},\n",
      " {'similarity': 0.794, 'word': [('poetry', 'NOUN', 'Female')]},\n",
      " {'similarity': 0.792, 'word': [('sphere', 'ADV', 'Strongly Female')]},\n",
      " {'similarity': 0.789, 'word': [('relentless', 'NOUN', 'Strongly Female')]},\n",
      " {'similarity': 0.776, 'word': [('nonlinear', 'ADJ', 'Strongly Female')]},\n",
      " {'similarity': 0.773, 'word': [('lucky', 'ADJ', 'Female')]},\n",
      " {'similarity': 0.771,\n",
      "  'word': [('girl', 'NOUN', 'Female'), ('girls', 'NOUN', 'Female')]},\n",
      " {'similarity': 0.768,\n",
      "  'word': [('massage_therapist', 'NOUN_NOUN', 'Strongly Female')]},\n",
      " {'similarity': 0.763, 'word': [('skillcrush', 'NOUN', 'Strongly Female')]},\n",
      " {'similarity': 0.762, 'word': [('glenn', 'NOUN', 'Strongly Female')]}]\n",
      "\n",
      "key_role ADJ_NOUN Strongly Female\n",
      "[{'similarity': 0.708,\n",
      "  'word': [('cross_departmental', 'NOUN_NOUN', 'Strongly Female')]},\n",
      " {'similarity': 0.692,\n",
      "  'word': [('netflix_eureka', 'NOUN_NOUN', 'Strongly Female')]},\n",
      " {'similarity': 0.688, 'word': [('non_routine', 'ADV_ADJ', 'Strongly Female')]},\n",
      " {'similarity': 0.681,\n",
      "  'word': [('targets_sources', 'NOUN_NOUN', 'Strongly Female')]},\n",
      " {'similarity': 0.668, 'word': [('worthwhile', 'NOUN', 'Strongly Female')]},\n",
      " {'similarity': 0.668,\n",
      "  'word': [('delivered_presentations', 'VERB_NOUN', 'Strongly Female')]},\n",
      " {'similarity': 0.664,\n",
      "  'word': [('jenkins_teamcity', 'NOUN_NOUN', 'Strongly Female')]},\n",
      " {'similarity': 0.662, 'word': [('marcom', 'NOUN', 'Strongly Female')]},\n",
      " {'similarity': 0.66,\n",
      "  'word': [('that_empowers', 'DET_NOUN', 'Strongly Female')]},\n",
      " {'similarity': 0.657, 'word': [('hbm_files', 'NOUN_NOUN', 'Strongly Female')]}]\n",
      "\n",
      "vba NOUN Male\n",
      "[{'similarity': 0.657, 'word': [('power_pivot', 'NOUN_NOUN', 'Female')]},\n",
      " {'similarity': 0.595, 'word': [('base_sas', 'NOUN_NOUN', 'Female')]},\n",
      " {'similarity': 0.595, 'word': [('libname', 'NOUN', 'Strongly Female')]},\n",
      " {'similarity': 0.57,\n",
      "  'word': [('sql_profiler', 'NOUN_NOUN', 'Strongly Female')]},\n",
      " {'similarity': 0.54, 'word': [('imbedded', 'VERB', 'Strongly Female')]},\n",
      " {'similarity': 0.526, 'word': [('ods_sas', 'NOUN_NOUN', 'Female')]},\n",
      " {'similarity': 0.525,\n",
      "  'word': [('studio_bids', 'NOUN_NOUN', 'Strongly Female')]},\n",
      " {'similarity': 0.489, 'word': [('jcl_db2', 'NOUN_NOUN', 'Female')]},\n",
      " {'similarity': 0.483, 'word': [('linq_objects', 'ADJ_NOUN', 'Female')]},\n",
      " {'similarity': 0.474,\n",
      "  'word': [('proc_import', 'NOUN_NOUN', 'Strongly Female')]}]\n",
      "\n"
     ]
    }
   ],
   "source": [
    "for result in job_results:\n",
    "    recs = get_most_similar(result[0], topn=10, gender=['Female', 'Strongly Female'], pos=None)\n",
    "    print(result[1], result[2], result[3])\n",
    "    pprint(recs)\n",
    "    print()"
   ]
  },
  {
   "cell_type": "code",
   "execution_count": 7,
   "metadata": {
    "collapsed": false
   },
   "outputs": [
    {
     "name": "stdout",
     "output_type": "stream",
     "text": [
      "Position summary\n",
      " Do you want to build your brand by working for a leading consulting firm that drives eminence in the marketplace? Are you interested in leveraging your analytical skills and strategic ideas to improve mission execution? If so, Deloitte could be the place for you! Our Federal Strategy and Operations teams bring deep industry expertise, rigorous analytical capabilities and a <em>pragmatic</em> mindset to help solve our client’s most complex business problems. Join our team, and play a <em>key role</em> in helping to design our clients’ roadmap to the future and help transform the Federal marketplace.\n",
      "  \n",
      " Work you’ll do\n",
      "  \n",
      " As a Sr. Consultant within our Business Model Transformation team, you will:\n",
      " Perform project tasks independently, and may direct the efforts of others\n",
      " Participate in and/or lead the development of deliverable content that meets the needs of the client and contract\n",
      " Anticipate client needs and formulate solutions to client issues\n",
      " Review deliverables for accuracy and quality\n",
      " Provides coaching to junior staff \n",
      " Contribute to new business proposals and proposal development\n",
      " Manages own personal and professional development; seeks opportunities for professional growth and expansion of consulting skills and experiences\n",
      "  \n",
      "  \n",
      " The Team\n",
      "  \n",
      " Transparency, innovation, collaboration, sustainability: these are the hallmark issues shaping Federal government initiatives today. Deloitte’s Federal practice is passionate about making an impact with lasting change.  Carrying out missions in the Federal practice requires fresh thinking and a creative approach. We collaborate with teams from across our organization in order to bring the full breadth of Deloitte, its commercial and public sector expertise, to best support our clients.  Our aspiration is to be the premier integrated solutions provider in helping to transform the Federal marketplace.\n",
      " By offering client-tailored services and deep industry insight, the Business Model Transformation team helps clients to seize new growth opportunities, maximize operational effectiveness, elevate their quality of service delivery, and stay ahead of customer demand. Consider a career where you’ll thrive on helping Federal clients to execute on their strategic visions and improve mission performance.\n",
      "  \n",
      " Qualifications\n",
      "  \n",
      " Required:\n",
      " Bachelor's degree in Computer Science, Engineering, Mathematics or other business-related field\n",
      " 4+ years of relevant consulting or industry experience\n",
      " Experience working independently with minimal guidance\n",
      " Strong problem solving and troubleshooting skills with experience exercising mature judgment\n",
      " Proven experience effectively prioritizing workload to meet deadlines and work objectives\n",
      " Demonstrated ability to write clearly, succinctly, and in a manner that appeals to a wide audience\n",
      " Proficiency in word processing, spreadsheet, and presentation creation tools, as well as Internet research tools\n",
      " Ability to obtain and maintain the required TS/SCI Security Clearance for this role\n",
      "  \n",
      "  \n",
      " Preferred:\n",
      " Prior professional services or federal consulting experience\n",
      " Experience with: SQL; Python; R; <em>VBA</em>, Hadoop\n",
      " Familiarity with electronic warfare, TECHELINT or OPELINT also desirable\n",
      " Vis tools: Tableau, Qlikview, Spotfire; Cognos 8, BI Authoring and modeling; Cognow CRN\n",
      " STATS package such as SPSS (modeler, statistics, text analytics); STATA or SAS; MATLAB\n",
      " Gathering data from both information systems and personal interactions\n",
      "  \n",
      "  \n",
      " How you’ll grow\n",
      " At Deloitte, our professional development plan focuses on helping people at every level of their career to identify and use their strengths to do their best work every day. From entry-level employees to senior leaders, we believe there’s always room to learn. We offer opportunities to help sharpen skills in addition to hands-on experience in the global, fast-changing business world.  From on-the-job learning experiences to formal development programs at Deloitte University, our professionals have a variety of opportunities to continue to grow throughout their career.  Explore Deloitte University, The Leadership Center.\n",
      "  \n",
      "  \n",
      " Benefits\n",
      " At Deloitte, we know that great people make a great organization. We value our people and offer employees a broad range of benefits. Learn more about what working at Deloitte can mean for you.\n",
      "  \n",
      "  \n",
      " Deloitte’s culture\n",
      " Our positive and supportive culture encourages our people to do their best work every day. We celebrate individuals by recognizing their uniqueness and offering them the flexibility to make daily choices that can help them to be healthy, centered, confident, and aware. We offer well-being programs and are continuously looking for new ways to maintain a culture where our people excel and lead healthy, happy lives.  Learn more about Life at Deloitte.\n",
      "  \n",
      " Corporate citizenship\n",
      " Deloitte is led by a purpose: to make an impact that matters. This purpose defines who we are and extends to relationships with our clients, our people and our communities.  We believe that business has the power to inspire and transform. We focus on education, giving, skill-based volunteerism, and leadership to help drive positive social impact in our communities.  Learn more about Deloitte’s impact on the world.\n"
     ]
    }
   ],
   "source": [
    "print(highlight_gendered_words(job, job_results))"
   ]
  },
  {
   "cell_type": "code",
   "execution_count": null,
   "metadata": {
    "collapsed": true
   },
   "outputs": [],
   "source": []
  }
 ],
 "metadata": {
  "kernelspec": {
   "display_name": "python3",
   "language": "python",
   "name": "python3"
  },
  "language_info": {
   "codemirror_mode": {
    "name": "ipython",
    "version": 3
   },
   "file_extension": ".py",
   "mimetype": "text/x-python",
   "name": "python",
   "nbconvert_exporter": "python",
   "pygments_lexer": "ipython3",
   "version": "3.5.0"
  }
 },
 "nbformat": 4,
 "nbformat_minor": 0
}

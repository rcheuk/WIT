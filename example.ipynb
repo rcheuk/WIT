{
 "cells": [
  {
   "cell_type": "code",
   "execution_count": 1,
   "metadata": {
    "collapsed": true
   },
   "outputs": [],
   "source": [
    "from recommend_words import *\n",
    "from pprint import pprint"
   ]
  },
  {
   "cell_type": "code",
   "execution_count": 2,
   "metadata": {
    "collapsed": false
   },
   "outputs": [
    {
     "data": {
      "text/plain": [
       "[(['excellent_organizational'], ['ADJ_NOUN'], 'Female', 0.655),\n",
       " (['thorough_exposure'], ['ADP_NOUN'], 'Female', 0.6),\n",
       " (['solid_organizational'], ['ADJ_NOUN'], 'Strongly Female', 0.575),\n",
       " (['business_acumen'], ['NOUN_NOUN'], 'Female', 0.56),\n",
       " (['clear_maintainable'], ['ADJ_ADJ'], 'Strongly Female', 0.546),\n",
       " (['outstanding_interpersonal'], ['ADJ_NOUN'], 'Female', 0.541),\n",
       " (['analytical_interpersonal'], ['ADJ_NOUN'], 'Strongly Female', 0.528),\n",
       " (['constant_learning'], ['ADJ_NOUN'], 'Female', 0.519),\n",
       " (['geographically_dispersed'], ['ADV_VERB'], 'Strongly Female', 0.504),\n",
       " (['team_spirit'], ['NOUN_NOUN'], 'Strongly Female', 0.497)]"
      ]
     },
     "execution_count": 2,
     "metadata": {},
     "output_type": "execute_result"
    }
   ],
   "source": [
    "get_most_similar('good', topn=10, gender=['Female', 'Strongly Female'], pos=None)"
   ]
  },
  {
   "cell_type": "code",
   "execution_count": 3,
   "metadata": {
    "collapsed": false
   },
   "outputs": [
    {
     "data": {
      "text/plain": [
       "[(['superb'], ['NOUN'], 'Male', 0.689),\n",
       " (['solving_skills'], ['VERB_NOUN'], 'Male', 0.686),\n",
       " (['hard', 'hardness'], ['ADJ', 'NOUN'], 'Male', 0.6),\n",
       " (['active_listening'], ['ADJ_NOUN'], 'Strongly Male', 0.581),\n",
       " (['sensing', 'sense'], ['VERB', 'NOUN'], 'Male', 0.569),\n",
       " (['valuable'], ['ADJ'], 'Male', 0.559),\n",
       " (['willingness'], ['NOUN'], 'Strongly Male', 0.535),\n",
       " (['proven_success'], ['ADV_NOUN'], 'Male', 0.523),\n",
       " (['bilingual_english'], ['ADJ_NOUN'], 'Male', 0.522),\n",
       " (['meticulous', 'meticulously'], ['ADJ', 'ADV'], 'Strongly Male', 0.519)]"
      ]
     },
     "execution_count": 3,
     "metadata": {},
     "output_type": "execute_result"
    }
   ],
   "source": [
    "get_most_similar('good', topn=10, gender=['Male', 'Strongly Male'], pos=None)"
   ]
  },
  {
   "cell_type": "code",
   "execution_count": 4,
   "metadata": {
    "collapsed": true
   },
   "outputs": [],
   "source": [
    "job = read_text('job_post.txt')\n",
    "job_data = process_text(job)\n",
    "job_results = get_gendered_words(job_data)"
   ]
  },
  {
   "cell_type": "code",
   "execution_count": 5,
   "metadata": {
    "collapsed": false
   },
   "outputs": [
    {
     "name": "stdout",
     "output_type": "stream",
     "text": [
      "pragmatic ADJ Male\n",
      "[(['online_presence'], ['NOUN_NOUN'], 'Strongly Female', 0.809),\n",
      " (['poetry'], ['NOUN'], 'Female', 0.794),\n",
      " (['sphere'], ['ADV'], 'Strongly Female', 0.792),\n",
      " (['relentless'], ['NOUN'], 'Strongly Female', 0.789),\n",
      " (['nonlinear'], ['ADJ'], 'Strongly Female', 0.776),\n",
      " (['lucky'], ['ADJ'], 'Female', 0.773),\n",
      " (['girl', 'girls'], ['NOUN', 'NOUN'], 'Female', 0.771),\n",
      " (['massage_therapist'], ['NOUN_NOUN'], 'Strongly Female', 0.768),\n",
      " (['skillcrush'], ['NOUN'], 'Strongly Female', 0.763),\n",
      " (['glenn'], ['NOUN'], 'Strongly Female', 0.762)]\n",
      "\n",
      "key_role ADJ_NOUN Strongly Female\n",
      "[(['cross_departmental'], ['NOUN_NOUN'], 'Strongly Female', 0.708),\n",
      " (['netflix_eureka'], ['NOUN_NOUN'], 'Strongly Female', 0.692),\n",
      " (['non_routine'], ['ADV_ADJ'], 'Strongly Female', 0.688),\n",
      " (['targets_sources'], ['NOUN_NOUN'], 'Strongly Female', 0.681),\n",
      " (['worthwhile'], ['NOUN'], 'Strongly Female', 0.668),\n",
      " (['delivered_presentations'], ['VERB_NOUN'], 'Strongly Female', 0.668),\n",
      " (['jenkins_teamcity'], ['NOUN_NOUN'], 'Strongly Female', 0.664),\n",
      " (['marcom'], ['NOUN'], 'Strongly Female', 0.662),\n",
      " (['that_empowers'], ['DET_NOUN'], 'Strongly Female', 0.66),\n",
      " (['hbm_files'], ['NOUN_NOUN'], 'Strongly Female', 0.657)]\n",
      "\n",
      "vba NOUN Male\n",
      "[(['power_pivot'], ['NOUN_NOUN'], 'Female', 0.657),\n",
      " (['base_sas'], ['NOUN_NOUN'], 'Female', 0.595),\n",
      " (['libname'], ['NOUN'], 'Strongly Female', 0.595),\n",
      " (['sql_profiler'], ['NOUN_NOUN'], 'Strongly Female', 0.57),\n",
      " (['imbedded'], ['VERB'], 'Strongly Female', 0.54),\n",
      " (['ods_sas'], ['NOUN_NOUN'], 'Female', 0.526),\n",
      " (['studio_bids'], ['NOUN_NOUN'], 'Strongly Female', 0.525),\n",
      " (['jcl_db2'], ['NOUN_NOUN'], 'Female', 0.489),\n",
      " (['linq_objects'], ['ADJ_NOUN'], 'Female', 0.483),\n",
      " (['proc_import'], ['NOUN_NOUN'], 'Strongly Female', 0.474)]\n",
      "\n"
     ]
    }
   ],
   "source": [
    "for result in job_results:\n",
    "    recs = get_most_similar(result[0], topn=10, gender=['Female', 'Strongly Female'], pos=None)\n",
    "    print(result[1], result[2], result[3])\n",
    "    pprint(recs)\n",
    "    print()"
   ]
  },
  {
   "cell_type": "code",
   "execution_count": null,
   "metadata": {
    "collapsed": true
   },
   "outputs": [],
   "source": []
  }
 ],
 "metadata": {
  "kernelspec": {
   "display_name": "python3",
   "language": "python",
   "name": "python3"
  },
  "language_info": {
   "codemirror_mode": {
    "name": "ipython",
    "version": 3
   },
   "file_extension": ".py",
   "mimetype": "text/x-python",
   "name": "python",
   "nbconvert_exporter": "python",
   "pygments_lexer": "ipython3",
   "version": "3.5.0"
  }
 },
 "nbformat": 4,
 "nbformat_minor": 0
}

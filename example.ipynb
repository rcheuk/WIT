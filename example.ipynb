{
 "cells": [
  {
   "cell_type": "code",
   "execution_count": 1,
   "metadata": {
    "collapsed": true
   },
   "outputs": [],
   "source": [
    "from recommend_words import *\n",
    "from pprint import pprint"
   ]
  },
  {
   "cell_type": "code",
   "execution_count": 2,
   "metadata": {
    "collapsed": false
   },
   "outputs": [
    {
     "data": {
      "text/plain": [
       "[{'similarity': 0.807,\n",
       "  'word': [('that_encourages', 'DET_VERB', 'strongly_female')]},\n",
       " {'similarity': 0.772,\n",
       "  'word': [('oral_written', 'ADJ_VERB', 'strongly_female')]},\n",
       " {'similarity': 0.771, 'word': [('conscientious', 'ADJ', 'strongly_female')]},\n",
       " {'similarity': 0.755,\n",
       "  'word': [('strong_verbal', 'ADJ_NOUN', 'strongly_female')]},\n",
       " {'similarity': 0.715, 'word': [('flair', 'NOUN', 'strongly_female')]},\n",
       " {'similarity': 0.699,\n",
       "  'word': [('outstanding_interpersonal', 'ADJ_NOUN', 'strongly_female')]},\n",
       " {'similarity': 0.678,\n",
       "  'word': [('constant_learning', 'ADJ_NOUN', 'strongly_female')]},\n",
       " {'similarity': 0.674,\n",
       "  'word': [('thorough_exposure', 'ADP_NOUN', 'strongly_female')]},\n",
       " {'similarity': 0.668,\n",
       "  'word': [('challenging_environments', 'VERB_NOUN', 'strongly_female')]},\n",
       " {'similarity': 0.667,\n",
       "  'word': [('clear_maintainable', 'ADJ_ADJ', 'strongly_female')]}]"
      ]
     },
     "execution_count": 2,
     "metadata": {},
     "output_type": "execute_result"
    }
   ],
   "source": [
    "get_most_similar('self_motivated', topn=10, gender=['strongly_female'], pos=None)"
   ]
  },
  {
   "cell_type": "code",
   "execution_count": 3,
   "metadata": {
    "collapsed": false
   },
   "outputs": [
    {
     "data": {
      "text/plain": [
       "[{'similarity': 0.648, 'word': [('loyal', 'NOUN', 'strongly_male')]},\n",
       " {'similarity': 0.635, 'word': [('take_pride', 'VERB_NOUN', 'strongly_male')]},\n",
       " {'similarity': 0.589,\n",
       "  'word': [('solving_abilities', 'VERB_NOUN', 'strongly_male')]},\n",
       " {'similarity': 0.582, 'word': [('high_stress', 'ADJ_NOUN', 'male')]},\n",
       " {'similarity': 0.578, 'word': [('extra_mile', 'ADJ_NOUN', 'strongly_male')]},\n",
       " {'similarity': 0.578,\n",
       "  'word': [('expand_knowledge', 'NOUN_NOUN', 'strongly_male'),\n",
       "   ('expanding_knowledge', 'VERB_NOUN', 'strongly_male')]},\n",
       " {'similarity': 0.569, 'word': [('know_how', 'VERB_ADV', 'strongly_male')]},\n",
       " {'similarity': 0.553,\n",
       "  'word': [('looking_join', 'VERB_NOUN', 'strongly_male')]},\n",
       " {'similarity': 0.553, 'word': [('ability_multitask', 'NOUN_NOUN', 'male')]},\n",
       " {'similarity': 0.549,\n",
       "  'word': [('interesting_problems', 'VERB_NOUN', 'male')]}]"
      ]
     },
     "execution_count": 3,
     "metadata": {},
     "output_type": "execute_result"
    }
   ],
   "source": [
    "get_most_similar('good', topn=10, gender=['male', 'strongly_male'], pos=None)"
   ]
  },
  {
   "cell_type": "code",
   "execution_count": 4,
   "metadata": {
    "collapsed": false
   },
   "outputs": [
    {
     "data": {
      "text/plain": [
       "[{'similarity': 0.818, 'word': [('team_player', 'NOUN_NOUN', 'neutral')]},\n",
       " {'similarity': 0.806,\n",
       "  'word': [('multi_tasking', 'NOUN_VERB', 'neutral'),\n",
       "   ('multi_task', 'NOUN_NOUN', 'neutral')]},\n",
       " {'similarity': 0.805, 'word': [('under_pressure', 'ADP_NOUN', 'neutral')]},\n",
       " {'similarity': 0.802,\n",
       "  'word': [('good_communication', 'ADJ_NOUN', 'neutral')]},\n",
       " {'similarity': 0.798,\n",
       "  'word': [('excellent_communicator', 'ADJ_NOUN', 'neutral'),\n",
       "   ('excellent_communication', 'ADJ_NOUN', 'neutral')]},\n",
       " {'similarity': 0.797,\n",
       "  'word': [('excellent_interpersonal', 'ADJ_NOUN', 'neutral')]},\n",
       " {'similarity': 0.792,\n",
       "  'word': [('meet_deadlines', 'NOUN_NOUN', 'neutral'),\n",
       "   ('meets_deadlines', 'NOUN_NOUN', 'neutral'),\n",
       "   ('meeting_deadlines', 'NOUN_NOUN', 'neutral')]},\n",
       " {'similarity': 0.791,\n",
       "  'word': [('multitask', 'NOUN', 'neutral'),\n",
       "   ('multitasking', 'VERB', 'neutral'),\n",
       "   ('multitasker', 'NOUN', 'neutral')]},\n",
       " {'similarity': 0.786, 'word': [('fast_learner', 'NOUN_NOUN', 'neutral')]},\n",
       " {'similarity': 0.783,\n",
       "  'word': [('work_ethics', 'NOUN_NOUN', 'neutral'),\n",
       "   ('work_ethic', 'NOUN_ADJ', 'neutral')]}]"
      ]
     },
     "execution_count": 4,
     "metadata": {},
     "output_type": "execute_result"
    }
   ],
   "source": [
    "get_most_similar('good', topn=10, gender='neutral', pos=None)"
   ]
  },
  {
   "cell_type": "code",
   "execution_count": 5,
   "metadata": {
    "collapsed": true
   },
   "outputs": [],
   "source": [
    "job = read_text('job_post.txt')\n",
    "job_data = process_text(job)\n",
    "job_results = get_gendered_words(job_data)"
   ]
  },
  {
   "cell_type": "code",
   "execution_count": 6,
   "metadata": {
    "collapsed": false
   },
   "outputs": [
    {
     "name": "stdout",
     "output_type": "stream",
     "text": [
      "pragmatic ADJ strongly_male\n",
      "[{'similarity': 0.865, 'word': [('career_changer', 'NOUN_NOUN', 'female')]},\n",
      " {'similarity': 0.859, 'word': [('softball', 'NOUN', 'female')]},\n",
      " {'similarity': 0.858, 'word': [('ophthalmology', 'NOUN', 'strongly_female')]},\n",
      " {'similarity': 0.854, 'word': [('intercultural', 'ADJ', 'female')]},\n",
      " {'similarity': 0.852, 'word': [('yoga', 'NOUN', 'female')]},\n",
      " {'similarity': 0.848, 'word': [('awe', 'NOUN', 'strongly_female')]},\n",
      " {'similarity': 0.845, 'word': [('supervised_staff', 'ADJ_NOUN', 'female')]},\n",
      " {'similarity': 0.845, 'word': [('glenn', 'NOUN', 'strongly_female')]},\n",
      " {'similarity': 0.843, 'word': [('abington', 'NOUN', 'female')]},\n",
      " {'similarity': 0.842,\n",
      "  'word': [('personal_interests', 'ADJ_NOUN', 'strongly_female')]}]\n",
      "\n",
      "professional_growth ADJ_NOUN female\n",
      "[{'similarity': 0.863, 'word': [('willingness_learn', 'NOUN_NOUN', 'female')]},\n",
      " {'similarity': 0.846, 'word': [('conscientious', 'ADJ', 'strongly_female')]},\n",
      " {'similarity': 0.844, 'word': [('business_acumen', 'NOUN_NOUN', 'female')]},\n",
      " {'similarity': 0.829,\n",
      "  'word': [('grow_professionally', 'VERB_ADV', 'strongly_female')]},\n",
      " {'similarity': 0.817,\n",
      "  'word': [('fulfill_their', 'VERB_PRON', 'strongly_female')]},\n",
      " {'similarity': 0.816,\n",
      "  'word': [('constant_learning', 'ADJ_NOUN', 'strongly_female')]},\n",
      " {'similarity': 0.809, 'word': [('lucky', 'ADJ', 'female')]},\n",
      " {'similarity': 0.807, 'word': [('stagnant', 'NOUN', 'strongly_female')]},\n",
      " {'similarity': 0.807,\n",
      "  'word': [('challenging_environments', 'VERB_NOUN', 'strongly_female')]},\n",
      " {'similarity': 0.802, 'word': [('most_valuable', 'ADV_ADJ', 'female')]}]\n",
      "\n",
      "public_sector ADJ_NOUN male\n",
      "[{'similarity': 0.901, 'word': [('retail_banking', 'ADJ_NOUN', 'female')]},\n",
      " {'similarity': 0.898,\n",
      "  'word': [('largest_providers', 'ADJ_NOUN', 'strongly_female')]},\n",
      " {'similarity': 0.896, 'word': [('bank_offers', 'NOUN_NOUN', 'female')]},\n",
      " {'similarity': 0.895,\n",
      "  'word': [('bank_holding', 'NOUN_VERB', 'strongly_female')]},\n",
      " {'similarity': 0.888, 'word': [('aegon', 'NOUN', 'strongly_female')]},\n",
      " {'similarity': 0.888,\n",
      "  'word': [('credit_suisse', 'NOUN_NOUN', 'strongly_female')]},\n",
      " {'similarity': 0.888, 'word': [('private_banking', 'ADJ_NOUN', 'female')]},\n",
      " {'similarity': 0.886,\n",
      "  'word': [('northern_california', 'ADJ_NOUN', 'strongly_female')]},\n",
      " {'similarity': 0.878, 'word': [('mainly_deals', 'ADV_NOUN', 'female')]},\n",
      " {'similarity': 0.876, 'word': [('erica', 'NOUN', 'strongly_female')]}]\n",
      "\n",
      "stay_ahead NOUN_ADV male\n",
      "[{'similarity': 0.849, 'word': [('nonlinear', 'ADJ', 'strongly_female')]},\n",
      " {'similarity': 0.824,\n",
      "  'word': [('cell_culture', 'NOUN_NOUN', 'strongly_female')]},\n",
      " {'similarity': 0.817,\n",
      "  'word': [('quantifiable', 'ADJ', 'female'),\n",
      "           ('quantify', 'VERB', 'female'),\n",
      "           ('quantified', 'VERB', 'female')]},\n",
      " {'similarity': 0.806, 'word': [('hypothesis_testing', 'NOUN_VERB', 'female')]},\n",
      " {'similarity': 0.804,\n",
      "  'word': [('epidemiology', 'NOUN', 'strongly_female'),\n",
      "           ('epidemiological', 'ADJ', 'strongly_female')]},\n",
      " {'similarity': 0.801, 'word': [('synthetic', 'ADJ', 'female')]},\n",
      " {'similarity': 0.799,\n",
      "  'word': [('survival_analysis', 'NOUN_NOUN', 'strongly_female')]},\n",
      " {'similarity': 0.798,\n",
      "  'word': [('confidence_intervals', 'NOUN_NOUN', 'female')]},\n",
      " {'similarity': 0.793, 'word': [('hypotheses', 'NOUN', 'female')]},\n",
      " {'similarity': 0.789, 'word': [('evolutionary', 'ADJ', 'female')]}]\n",
      "\n",
      "mature NOUN male\n",
      "[{'similarity': 0.764,\n",
      "  'word': [('challenging_environments', 'VERB_NOUN', 'strongly_female')]},\n",
      " {'similarity': 0.753, 'word': [('willingness_learn', 'NOUN_NOUN', 'female')]},\n",
      " {'similarity': 0.75, 'word': [('business_acumen', 'NOUN_NOUN', 'female')]},\n",
      " {'similarity': 0.743, 'word': [('improvising', 'VERB', 'strongly_female')]},\n",
      " {'similarity': 0.742, 'word': [('roadblocks', 'NOUN', 'female')]},\n",
      " {'similarity': 0.742,\n",
      "  'word': [('differentiated_instruction', 'VERB_NOUN', 'strongly_female')]},\n",
      " {'similarity': 0.727, 'word': [('professional_growth', 'ADJ_NOUN', 'female')]},\n",
      " {'similarity': 0.723,\n",
      "  'word': [('fulfill_their', 'VERB_PRON', 'strongly_female')]},\n",
      " {'similarity': 0.722,\n",
      "  'word': [('elicitation', 'NOUN', 'female'), ('elicit', 'NOUN', 'female')]},\n",
      " {'similarity': 0.72, 'word': [('achieve_goals', 'NOUN_NOUN', 'female')]}]\n",
      "\n",
      "vba NOUN strongly_male\n",
      "[{'similarity': 0.689, 'word': [('base_sas', 'NOUN_NOUN', 'female')]},\n",
      " {'similarity': 0.675,\n",
      "  'word': [('sas_macro', 'NOUN_NOUN', 'female'),\n",
      "           ('sas_macros', 'NOUN_NOUN', 'female')]},\n",
      " {'similarity': 0.661, 'word': [('sas_stat', 'NOUN_NOUN', 'female')]},\n",
      " {'similarity': 0.656, 'word': [('sas_graph', 'NOUN_NOUN', 'female')]},\n",
      " {'similarity': 0.646, 'word': [('sql_profiler', 'NOUN_NOUN', 'female')]},\n",
      " {'similarity': 0.64, 'word': [('jcl_db2', 'NOUN_NOUN', 'strongly_female')]},\n",
      " {'similarity': 0.64, 'word': [('sas_ods', 'NOUN_NOUN', 'female')]},\n",
      " {'similarity': 0.626,\n",
      "  'word': [('power_pivot', 'NOUN_NOUN', 'strongly_female')]},\n",
      " {'similarity': 0.625, 'word': [('sas_base', 'NOUN_NOUN', 'female')]},\n",
      " {'similarity': 0.616, 'word': [('ods_sas', 'NOUN_NOUN', 'strongly_female')]}]\n",
      "\n",
      "warfare NOUN strongly_male\n",
      "[{'similarity': 0.905,\n",
      "  'word': [('allergies', 'NOUN', 'strongly_female'),\n",
      "           ('allergy', 'NOUN', 'strongly_female')]},\n",
      " {'similarity': 0.903, 'word': [('baptist', 'NOUN', 'strongly_female')]},\n",
      " {'similarity': 0.902,\n",
      "  'word': [('louisiana_state', 'NOUN_NOUN', 'strongly_female')]},\n",
      " {'similarity': 0.899, 'word': [('scranton', 'NOUN', 'strongly_female')]},\n",
      " {'similarity': 0.896, 'word': [('chem', 'NOUN', 'female')]},\n",
      " {'similarity': 0.895, 'word': [('study_abroad', 'NOUN_ADV', 'female')]},\n",
      " {'similarity': 0.891, 'word': [('toxicology', 'NOUN', 'strongly_female')]},\n",
      " {'similarity': 0.889, 'word': [('respiratory', 'NOUN', 'strongly_female')]},\n",
      " {'similarity': 0.885, 'word': [('louisiana', 'NOUN', 'female')]},\n",
      " {'similarity': 0.883,\n",
      "  'word': [('master_arts', 'NOUN_NOUN', 'strongly_female')]}]\n",
      "\n"
     ]
    }
   ],
   "source": [
    "for result in job_results:\n",
    "    recs = get_most_similar(result[1], topn=10, gender=['female', 'strongly_female'], pos=None)\n",
    "    print(result[1], result[2], result[3])\n",
    "    pprint(recs)\n",
    "    print()"
   ]
  },
  {
   "cell_type": "code",
   "execution_count": 7,
   "metadata": {
    "collapsed": false
   },
   "outputs": [
    {
     "name": "stdout",
     "output_type": "stream",
     "text": [
      "Position summary\n",
      " Do you want to build your brand by working for a leading consulting firm that drives eminence in the marketplace? Are you interested in leveraging your analytical skills and strategic ideas to improve mission execution? If so, Deloitte could be the place for you! Our Federal Strategy and Operations teams bring deep industry expertise, rigorous analytical capabilities and a <span class=\"strongly_male\">pragmatic</span> mindset to help solve our client’s most complex business problems. Join our team, and play a key role in helping to design our clients’ roadmap to the future and help transform the Federal marketplace.\n",
      "  \n",
      " Work you’ll do\n",
      "  \n",
      " As a Sr. Consultant within our Business Model Transformation team, you will:\n",
      " Perform project tasks independently, and may direct the efforts of others\n",
      " Participate in and/or lead the development of deliverable content that meets the needs of the client and contract\n",
      " Anticipate client needs and formulate solutions to client issues\n",
      " Review deliverables for accuracy and quality\n",
      " Provides coaching to junior staff \n",
      " Contribute to new business proposals and proposal development\n",
      " Manages own personal and professional development; seeks opportunities for <span class=\"female\">professional growth</span> and expansion of consulting skills and experiences\n",
      "  \n",
      "  \n",
      " The Team\n",
      "  \n",
      " Transparency, innovation, collaboration, sustainability: these are the hallmark issues shaping Federal government initiatives today. Deloitte’s Federal practice is passionate about making an impact with lasting change.  Carrying out missions in the Federal practice requires fresh thinking and a creative approach. We collaborate with teams from across our organization in order to bring the full breadth of Deloitte, its commercial and <span class=\"male\">public sector</span> expertise, to best support our clients.  Our aspiration is to be the premier integrated solutions provider in helping to transform the Federal marketplace.\n",
      " By offering client-tailored services and deep industry insight, the Business Model Transformation team helps clients to seize new growth opportunities, maximize operational effectiveness, elevate their quality of service delivery, and <span class=\"male\">stay ahead</span> of customer demand. Consider a career where you’ll thrive on helping Federal clients to execute on their strategic visions and improve mission performance.\n",
      "  \n",
      " Qualifications\n",
      "  \n",
      " Required:\n",
      " Bachelor's degree in Computer Science, Engineering, Mathematics or other business-related field\n",
      " 4+ years of relevant consulting or industry experience\n",
      " Experience working independently with minimal guidance\n",
      " Strong problem solving and troubleshooting skills with experience exercising <span class=\"male\">mature</span> judgment\n",
      " Proven experience effectively prioritizing workload to meet deadlines and work objectives\n",
      " Demonstrated ability to write clearly, succinctly, and in a manner that appeals to a wide audience\n",
      " Proficiency in word processing, spreadsheet, and presentation creation tools, as well as Internet research tools\n",
      " Ability to obtain and maintain the required TS/SCI Security Clearance for this role\n",
      "  \n",
      "  \n",
      " Preferred:\n",
      " Prior professional services or federal consulting experience\n",
      " Experience with: SQL; Python; R; <span class=\"strongly_male\">VBA</span>, Hadoop\n",
      " Familiarity with electronic <span class=\"strongly_male\">warfare</span>, TECHELINT or OPELINT also desirable\n",
      " Vis tools: Tableau, Qlikview, Spotfire; Cognos 8, BI Authoring and modeling; Cognow CRN\n",
      " STATS package such as SPSS (modeler, statistics, text analytics); STATA or SAS; MATLAB\n",
      " Gathering data from both information systems and personal interactions\n",
      "  \n",
      "  \n",
      " How you’ll grow\n",
      " At Deloitte, our professional development plan focuses on helping people at every level of their career to identify and use their strengths to do their best work every day. From entry-level employees to senior leaders, we believe there’s always room to learn. We offer opportunities to help sharpen skills in addition to hands-on experience in the global, fast-changing business world.  From on-the-job learning experiences to formal development programs at Deloitte University, our professionals have a variety of opportunities to continue to grow throughout their career.  Explore Deloitte University, The Leadership Center.\n",
      "  \n",
      "  \n",
      " Benefits\n",
      " At Deloitte, we know that great people make a great organization. We value our people and offer employees a broad range of benefits. Learn more about what working at Deloitte can mean for you.\n",
      "  \n",
      "  \n",
      " Deloitte’s culture\n",
      " Our positive and supportive culture encourages our people to do their best work every day. We celebrate individuals by recognizing their uniqueness and offering them the flexibility to make daily choices that can help them to be healthy, centered, confident, and aware. We offer well-being programs and are continuously looking for new ways to maintain a culture where our people excel and lead healthy, happy lives.  Learn more about Life at Deloitte.\n",
      "  \n",
      " Corporate citizenship\n",
      " Deloitte is led by a purpose: to make an impact that matters. This purpose defines who we are and extends to relationships with our clients, our people and our communities.  We believe that business has the power to inspire and transform. We focus on education, giving, skill-based volunteerism, and leadership to help drive positive social impact in our communities.  Learn more about Deloitte’s impact on the world.\n"
     ]
    }
   ],
   "source": [
    "print(highlight_gendered_words(job, job_results))"
   ]
  },
  {
   "cell_type": "code",
   "execution_count": null,
   "metadata": {
    "collapsed": true
   },
   "outputs": [],
   "source": []
  }
 ],
 "metadata": {
  "kernelspec": {
   "display_name": "python3",
   "language": "python",
   "name": "python3"
  },
  "language_info": {
   "codemirror_mode": {
    "name": "ipython",
    "version": 3
   },
   "file_extension": ".py",
   "mimetype": "text/x-python",
   "name": "python",
   "nbconvert_exporter": "python",
   "pygments_lexer": "ipython3",
   "version": "3.5.0"
  }
 },
 "nbformat": 4,
 "nbformat_minor": 0
}

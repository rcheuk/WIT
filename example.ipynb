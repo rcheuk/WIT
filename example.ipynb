{
 "cells": [
  {
   "cell_type": "code",
   "execution_count": 1,
   "metadata": {
    "collapsed": true
   },
   "outputs": [],
   "source": [
    "from recommend_words import *\n",
    "from pprint import pprint"
   ]
  },
  {
   "cell_type": "code",
   "execution_count": 2,
   "metadata": {
    "collapsed": false
   },
   "outputs": [
    {
     "data": {
      "text/plain": [
       "[{'similarity': 0.962, 'word': [('self_starter', 'NOUN_NOUN', 'neutral')]},\n",
       " {'similarity': 0.952, 'word': [('fast_learner', 'NOUN_NOUN', 'neutral')]},\n",
       " {'similarity': 0.95, 'word': [('hardworking', 'VERB', 'neutral')]},\n",
       " {'similarity': 0.949, 'word': [('highly_motivated', 'ADV_VERB', 'neutral')]},\n",
       " {'similarity': 0.943, 'word': [('problem_solver', 'NOUN_NOUN', 'neutral')]},\n",
       " {'similarity': 0.943, 'word': [('quick_learner', 'ADJ_NOUN', 'neutral')]},\n",
       " {'similarity': 0.941,\n",
       "  'word': [('work_ethics', 'NOUN_NOUN', 'neutral'),\n",
       "   ('work_ethic', 'NOUN_ADJ', 'neutral')]},\n",
       " {'similarity': 0.94, 'word': [('detail_oriented', 'NOUN_VERB', 'neutral')]},\n",
       " {'similarity': 0.936, 'word': [('team_player', 'NOUN_NOUN', 'neutral')]},\n",
       " {'similarity': 0.934,\n",
       "  'word': [('enthusiasts', 'NOUN', 'neutral'),\n",
       "   ('enthusiastic', 'ADJ', 'neutral'),\n",
       "   ('enthusiastically', 'ADV', 'neutral'),\n",
       "   ('enthusiast', 'NOUN', 'neutral')]}]"
      ]
     },
     "execution_count": 2,
     "metadata": {},
     "output_type": "execute_result"
    }
   ],
   "source": [
    "get_most_similar('self_motivated', topn=10, gender=None, pos=None)"
   ]
  },
  {
   "cell_type": "code",
   "execution_count": 3,
   "metadata": {
    "collapsed": false
   },
   "outputs": [
    {
     "data": {
      "text/plain": [
       "[{'similarity': 0.85, 'word': [('highly_organized', 'ADV_VERB', 'female')]},\n",
       " {'similarity': 0.82,\n",
       "  'word': [('verbal_communication', 'ADJ_NOUN', 'female')]},\n",
       " {'similarity': 0.815,\n",
       "  'word': [('written_communication', 'VERB_NOUN', 'female')]},\n",
       " {'similarity': 0.811,\n",
       "  'word': [('analytical_interpersonal', 'ADJ_NOUN', 'female')]},\n",
       " {'similarity': 0.807,\n",
       "  'word': [('that_encourages', 'DET_VERB', 'strongly_female')]},\n",
       " {'similarity': 0.791, 'word': [('cross_cultural', 'NOUN_NOUN', 'female')]},\n",
       " {'similarity': 0.778, 'word': [('willingness_learn', 'NOUN_NOUN', 'female')]},\n",
       " {'similarity': 0.772,\n",
       "  'word': [('oral_written', 'ADJ_VERB', 'strongly_female')]},\n",
       " {'similarity': 0.771, 'word': [('conscientious', 'ADJ', 'strongly_female')]},\n",
       " {'similarity': 0.755,\n",
       "  'word': [('strong_verbal', 'ADJ_NOUN', 'strongly_female')]}]"
      ]
     },
     "execution_count": 3,
     "metadata": {},
     "output_type": "execute_result"
    }
   ],
   "source": [
    "get_most_similar('self_motivated', topn=10, gender=['female', 'strongly_female'], pos=None)"
   ]
  },
  {
   "cell_type": "code",
   "execution_count": 4,
   "metadata": {
    "collapsed": false
   },
   "outputs": [
    {
     "data": {
      "text/plain": [
       "[{'similarity': 0.648, 'word': [('loyal', 'NOUN', 'strongly_male')]},\n",
       " {'similarity': 0.635, 'word': [('take_pride', 'VERB_NOUN', 'strongly_male')]},\n",
       " {'similarity': 0.589,\n",
       "  'word': [('solving_abilities', 'VERB_NOUN', 'strongly_male')]},\n",
       " {'similarity': 0.582, 'word': [('high_stress', 'ADJ_NOUN', 'male')]},\n",
       " {'similarity': 0.578, 'word': [('extra_mile', 'ADJ_NOUN', 'strongly_male')]},\n",
       " {'similarity': 0.578,\n",
       "  'word': [('expand_knowledge', 'NOUN_NOUN', 'strongly_male'),\n",
       "   ('expanding_knowledge', 'VERB_NOUN', 'strongly_male')]},\n",
       " {'similarity': 0.569, 'word': [('know_how', 'VERB_ADV', 'strongly_male')]},\n",
       " {'similarity': 0.553,\n",
       "  'word': [('looking_join', 'VERB_NOUN', 'strongly_male')]},\n",
       " {'similarity': 0.553, 'word': [('ability_multitask', 'NOUN_NOUN', 'male')]},\n",
       " {'similarity': 0.549,\n",
       "  'word': [('interesting_problems', 'VERB_NOUN', 'male')]}]"
      ]
     },
     "execution_count": 4,
     "metadata": {},
     "output_type": "execute_result"
    }
   ],
   "source": [
    "get_most_similar('good', topn=10, gender=['male', 'strongly_male'], pos=None)"
   ]
  },
  {
   "cell_type": "code",
   "execution_count": 5,
   "metadata": {
    "collapsed": false
   },
   "outputs": [
    {
     "data": {
      "text/plain": [
       "[{'similarity': 0.818, 'word': [('team_player', 'NOUN_NOUN', 'neutral')]},\n",
       " {'similarity': 0.806,\n",
       "  'word': [('multi_tasking', 'NOUN_VERB', 'neutral'),\n",
       "   ('multi_task', 'NOUN_NOUN', 'neutral')]},\n",
       " {'similarity': 0.805, 'word': [('under_pressure', 'ADP_NOUN', 'neutral')]},\n",
       " {'similarity': 0.802,\n",
       "  'word': [('good_communication', 'ADJ_NOUN', 'neutral')]},\n",
       " {'similarity': 0.798,\n",
       "  'word': [('excellent_communicator', 'ADJ_NOUN', 'neutral'),\n",
       "   ('excellent_communication', 'ADJ_NOUN', 'neutral')]},\n",
       " {'similarity': 0.797,\n",
       "  'word': [('excellent_interpersonal', 'ADJ_NOUN', 'neutral')]},\n",
       " {'similarity': 0.792,\n",
       "  'word': [('meet_deadlines', 'NOUN_NOUN', 'neutral'),\n",
       "   ('meets_deadlines', 'NOUN_NOUN', 'neutral'),\n",
       "   ('meeting_deadlines', 'NOUN_NOUN', 'neutral')]},\n",
       " {'similarity': 0.791,\n",
       "  'word': [('multitask', 'NOUN', 'neutral'),\n",
       "   ('multitasking', 'VERB', 'neutral'),\n",
       "   ('multitasker', 'NOUN', 'neutral')]},\n",
       " {'similarity': 0.786, 'word': [('fast_learner', 'NOUN_NOUN', 'neutral')]},\n",
       " {'similarity': 0.783,\n",
       "  'word': [('work_ethics', 'NOUN_NOUN', 'neutral'),\n",
       "   ('work_ethic', 'NOUN_ADJ', 'neutral')]}]"
      ]
     },
     "execution_count": 5,
     "metadata": {},
     "output_type": "execute_result"
    }
   ],
   "source": [
    "get_most_similar('good', topn=10, gender='neutral', pos=None)"
   ]
  },
  {
   "cell_type": "code",
   "execution_count": 6,
   "metadata": {
    "collapsed": false
   },
   "outputs": [
    {
     "data": {
      "text/plain": [
       "[{'similarity': 0.818, 'word': [('team_player', 'NOUN_NOUN', 'neutral')]},\n",
       " {'similarity': 0.806,\n",
       "  'word': [('multi_tasking', 'NOUN_VERB', 'neutral'),\n",
       "   ('multi_task', 'NOUN_NOUN', 'neutral')]},\n",
       " {'similarity': 0.805, 'word': [('under_pressure', 'ADP_NOUN', 'neutral')]},\n",
       " {'similarity': 0.802,\n",
       "  'word': [('good_communication', 'ADJ_NOUN', 'neutral')]},\n",
       " {'similarity': 0.798,\n",
       "  'word': [('excellent_communicator', 'ADJ_NOUN', 'neutral'),\n",
       "   ('excellent_communication', 'ADJ_NOUN', 'neutral')]},\n",
       " {'similarity': 0.797,\n",
       "  'word': [('excellent_interpersonal', 'ADJ_NOUN', 'neutral')]},\n",
       " {'similarity': 0.792,\n",
       "  'word': [('meet_deadlines', 'NOUN_NOUN', 'neutral'),\n",
       "   ('meets_deadlines', 'NOUN_NOUN', 'neutral'),\n",
       "   ('meeting_deadlines', 'NOUN_NOUN', 'neutral')]},\n",
       " {'similarity': 0.791,\n",
       "  'word': [('multitask', 'NOUN', 'neutral'),\n",
       "   ('multitasking', 'VERB', 'neutral'),\n",
       "   ('multitasker', 'NOUN', 'neutral')]},\n",
       " {'similarity': 0.786, 'word': [('fast_learner', 'NOUN_NOUN', 'neutral')]},\n",
       " {'similarity': 0.783,\n",
       "  'word': [('work_ethics', 'NOUN_NOUN', 'neutral'),\n",
       "   ('work_ethic', 'NOUN_ADJ', 'neutral')]}]"
      ]
     },
     "execution_count": 6,
     "metadata": {},
     "output_type": "execute_result"
    }
   ],
   "source": [
    "get_most_similar('good', topn=10, gender='neutral', pos=['noun', 'verb'])"
   ]
  },
  {
   "cell_type": "code",
   "execution_count": 7,
   "metadata": {
    "collapsed": false
   },
   "outputs": [
    {
     "data": {
      "text/plain": [
       "[{'similarity': 0.806,\n",
       "  'word': [('multi_tasking', 'NOUN_VERB', 'neutral'),\n",
       "   ('multi_task', 'NOUN_NOUN', 'neutral')]},\n",
       " {'similarity': 0.791,\n",
       "  'word': [('multitask', 'NOUN', 'neutral'),\n",
       "   ('multitasking', 'VERB', 'neutral'),\n",
       "   ('multitasker', 'NOUN', 'neutral')]},\n",
       " {'similarity': 0.761, 'word': [('detail_oriented', 'NOUN_VERB', 'neutral')]},\n",
       " {'similarity': 0.753,\n",
       "  'word': [('problem_solving', 'NOUN_VERB', 'neutral'),\n",
       "   ('problem_solved', 'NOUN_VERB', 'neutral'),\n",
       "   ('problem_solve', 'NOUN_NOUN', 'neutral')]},\n",
       " {'similarity': 0.747,\n",
       "  'word': [('self_motivated', 'NOUN_VERB', 'neutral'),\n",
       "   ('self_motivation', 'NOUN_NOUN', 'neutral')]},\n",
       " {'similarity': 0.742,\n",
       "  'word': [('effective_communication', 'ADJ_NOUN', 'neutral'),\n",
       "   ('effective_communicator', 'ADJ_NOUN', 'neutral'),\n",
       "   ('effectively_communicated', 'ADV_VERB', 'neutral'),\n",
       "   ('effectively_communicate', 'ADV_NOUN', 'neutral')]},\n",
       " {'similarity': 0.741, 'word': [('highly_organized', 'ADV_VERB', 'female')]},\n",
       " {'similarity': 0.738, 'word': [('hardworking', 'VERB', 'neutral')]},\n",
       " {'similarity': 0.737,\n",
       "  'word': [('commits', 'NOUN', 'neutral'),\n",
       "   ('committing', 'VERB', 'neutral'),\n",
       "   ('commitments', 'NOUN', 'neutral'),\n",
       "   ('commitment', 'NOUN', 'neutral'),\n",
       "   ('commit', 'NOUN', 'neutral'),\n",
       "   ('committed', 'VERB', 'neutral')]},\n",
       " {'similarity': 0.727, 'word': [('excellent_written', 'ADJ_VERB', 'neutral')]}]"
      ]
     },
     "execution_count": 7,
     "metadata": {},
     "output_type": "execute_result"
    }
   ],
   "source": [
    "get_most_similar('good', topn=10, gender=None, pos='verb')"
   ]
  },
  {
   "cell_type": "code",
   "execution_count": null,
   "metadata": {
    "collapsed": true
   },
   "outputs": [],
   "source": [
    "job = read_text('job_post.txt')\n",
    "job_data = process_text(job)\n",
    "job_results = get_gendered_words(job_data)"
   ]
  },
  {
   "cell_type": "code",
   "execution_count": null,
   "metadata": {
    "collapsed": false
   },
   "outputs": [],
   "source": [
    "for result in job_results:\n",
    "    recs = get_most_similar(result[1], topn=10, gender=['female', 'strongly_female'], pos=None)\n",
    "    print(result[1], result[2], result[3])\n",
    "    pprint(recs)\n",
    "    print()"
   ]
  },
  {
   "cell_type": "code",
   "execution_count": null,
   "metadata": {
    "collapsed": false
   },
   "outputs": [],
   "source": [
    "print(highlight_gendered_words(job, job_results))"
   ]
  },
  {
   "cell_type": "code",
   "execution_count": null,
   "metadata": {
    "collapsed": true
   },
   "outputs": [],
   "source": []
  }
 ],
 "metadata": {
  "kernelspec": {
   "display_name": "python3",
   "language": "python",
   "name": "python3"
  },
  "language_info": {
   "codemirror_mode": {
    "name": "ipython",
    "version": 3
   },
   "file_extension": ".py",
   "mimetype": "text/x-python",
   "name": "python",
   "nbconvert_exporter": "python",
   "pygments_lexer": "ipython3",
   "version": "3.5.0"
  }
 },
 "nbformat": 4,
 "nbformat_minor": 0
}
